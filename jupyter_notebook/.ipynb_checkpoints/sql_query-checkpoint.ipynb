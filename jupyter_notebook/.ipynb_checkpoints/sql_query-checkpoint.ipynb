{
 "cells": [
  {
   "cell_type": "code",
   "execution_count": null,
   "id": "78ba969a",
   "metadata": {},
   "outputs": [],
   "source": [
    "CREATE TABLE FluVacc2 (\n",
    "    ID INT PRIMARY KEY,\n",
    "    Flu_Season VARCHAR(10),\n",
    "    State VARCHAR(50),\n",
    "    County VARCHAR(50),\n",
    "    Number_Hospitals INT,\n",
    "    HCP_Total_Number_Vaccinated INT,\n",
    "    Total_HCP_Vaccinated INT,\n",
    "    Percentage_HCP_Vaccinated FLOAT,\n",
    "    Total_Hospital_Employees_Vaccinated INT,\n",
    "    Total_Hospital_Employees_Working INT,\n",
    "    Percentage_Hospital_Employees_Vaccinated FLOAT,\n",
    "    Total_Number_Contractors_Vaccinated INT,\n",
    "    Total_Number_Contractors_Working INT,\n",
    "    Percentage_Contractors_Vaccinated FLOAT,\n",
    "    Total_Number_LIP_Vaccinated INT,\n",
    "    Total_Number_LIP_Working INT,\n",
    "    Percentage_LIP_Vaccinated FLOAT,\n",
    "    Total_Number_Volunteers_Vaccinated INT,\n",
    "    Total_Number_Volunteers_Working INT,\n",
    "    Percentage_Volunteers_Vaccinated FLOAT,\n",
    "    \"90%_HCP_Vaccinated\" VARCHAR(3) -- Column name includes %\n",
    ");\n",
    "\n",
    "DROP TABLE FluVacc2;\n",
    "\n",
    "SELECT * FROM FluVacc2;"
   ]
  },
  {
   "cell_type": "code",
   "execution_count": null,
   "id": "88cd9f67",
   "metadata": {},
   "outputs": [],
   "source": []
  }
 ],
 "metadata": {
  "kernelspec": {
   "display_name": "Python 3 (ipykernel)",
   "language": "python",
   "name": "python3"
  },
  "language_info": {
   "codemirror_mode": {
    "name": "ipython",
    "version": 3
   },
   "file_extension": ".py",
   "mimetype": "text/x-python",
   "name": "python",
   "nbconvert_exporter": "python",
   "pygments_lexer": "ipython3",
   "version": "3.11.4"
  }
 },
 "nbformat": 4,
 "nbformat_minor": 5
}
